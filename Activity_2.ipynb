{
  "nbformat": 4,
  "nbformat_minor": 0,
  "metadata": {
    "colab": {
      "provenance": [],
      "collapsed_sections": [],
      "authorship_tag": "ABX9TyOFejGhVU/M+7omYtrHdEzj",
      "include_colab_link": true
    },
    "kernelspec": {
      "name": "python3",
      "display_name": "Python 3"
    },
    "language_info": {
      "name": "python"
    }
  },
  "cells": [
    {
      "cell_type": "markdown",
      "metadata": {
        "id": "view-in-github",
        "colab_type": "text"
      },
      "source": [
        "<a href=\"https://colab.research.google.com/github/PrinceDaveIgnacio/DSA-58011/blob/main/Activity_2.ipynb\" target=\"_parent\"><img src=\"https://colab.research.google.com/assets/colab-badge.svg\" alt=\"Open In Colab\"/></a>"
      ]
    },
    {
      "cell_type": "markdown",
      "source": [
        "#Activity 2: Linked List (English Vowels)"
      ],
      "metadata": {
        "id": "t99dErBzcXaD"
      }
    },
    {
      "cell_type": "code",
      "execution_count": 40,
      "metadata": {
        "id": "7WfCNcarN__A",
        "colab": {
          "base_uri": "https://localhost:8080/"
        },
        "outputId": "f09b04c4-d2cb-4aad-94a7-36b0e834d9cc"
      },
      "outputs": [
        {
          "output_type": "stream",
          "name": "stdout",
          "text": [
            "a\n",
            "e\n",
            "i\n",
            "o\n",
            "u\n"
          ]
        }
      ],
      "source": [
        "class Node:\n",
        "  def __init__(self, data = None, next = None):\n",
        "    self.data = data\n",
        "    self.next = next\n",
        "\n",
        "class LinkedList():\n",
        "  def __init__(self):\n",
        "    self.head = None\n",
        "  def insert(self, data):\n",
        "    newNode = Node(data)\n",
        "    if(self.head):\n",
        "      current = self.head\n",
        "      while(current.next):\n",
        "          current = current.next\n",
        "          current.next = newNode\n",
        "    else:\n",
        "      self.head = newNode\n",
        "\n",
        "  def print( self):\n",
        "    current = self.head\n",
        "    while(current):\n",
        "      print(current.data)\n",
        "      current = current.next\n",
        "  \n",
        "\n",
        "#Insertion of all elements(5) - English Alphabet Vowels\n",
        "\n",
        "llist = LinkedList()\n",
        "llist.head = Node('a')\n",
        "Alp_2 = Node('e')\n",
        "Alp_3 = Node('i')\n",
        "Alp_4 = Node('o')\n",
        "Alp_5 = Node('u')\n",
        "\n",
        "\n",
        "\n",
        "\n",
        "llist.head.next = Alp_2               #Singly Linked List\n",
        "Alp_2.next = Alp_3 \n",
        "Alp_3.next = Alp_4\n",
        "Alp_4.next = Alp_5\n",
        "\n",
        "\n",
        "llist.print()"
      ]
    }
  ]
}
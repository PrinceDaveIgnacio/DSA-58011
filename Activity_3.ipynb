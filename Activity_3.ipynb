{
  "nbformat": 4,
  "nbformat_minor": 0,
  "metadata": {
    "colab": {
      "provenance": [],
      "collapsed_sections": [],
      "authorship_tag": "ABX9TyNELSjjljV6zTqirA2Zwg/a",
      "include_colab_link": true
    },
    "kernelspec": {
      "name": "python3",
      "display_name": "Python 3"
    },
    "language_info": {
      "name": "python"
    }
  },
  "cells": [
    {
      "cell_type": "markdown",
      "metadata": {
        "id": "view-in-github",
        "colab_type": "text"
      },
      "source": [
        "<a href=\"https://colab.research.google.com/github/PrinceDaveIgnacio/DSA-58011/blob/main/Activity_3.ipynb\" target=\"_parent\"><img src=\"https://colab.research.google.com/assets/colab-badge.svg\" alt=\"Open In Colab\"/></a>"
      ]
    },
    {
      "cell_type": "markdown",
      "source": [
        "Implementation of Stack in Python"
      ],
      "metadata": {
        "id": "uK86c4eLzWD-"
      }
    },
    {
      "cell_type": "code",
      "source": [
        "def create_stack():\n",
        "  stack = []\n",
        "  return stack\n",
        "\n",
        "def is_empty(stack):\n",
        "  return len(stack) == 0\n",
        "\n",
        "def push(stack, item):\n",
        "  stack.append(item)\n",
        "  print(\"Pushed Element:\"+ item)\n",
        "\n",
        "def pop(stack):\n",
        "  if(is_empty(stack)):\n",
        "    return \"The stack is empty\"\n",
        "  return stack.pop()\n",
        "\n",
        "def getSize(stack):\n",
        "  return stack\n",
        "\n",
        "def count(stack):\n",
        "  return len(stack)\n",
        "\n",
        "stack = create_stack()\n",
        "push(stack, str(1))\n",
        "push(stack, str(2))\n",
        "push(stack, str(3))\n",
        "push(stack, str(4))\n",
        "push(stack, str(5))\n",
        "\n",
        "print(\"The elements in the stack are:\"+ str(stack))"
      ],
      "metadata": {
        "colab": {
          "base_uri": "https://localhost:8080/"
        },
        "id": "6ZVgZ32IznOx",
        "outputId": "bf9db5ed-825d-4383-887b-49c54754c0b1"
      },
      "execution_count": 17,
      "outputs": [
        {
          "output_type": "stream",
          "name": "stdout",
          "text": [
            "Pushed Element:1\n",
            "Pushed Element:2\n",
            "Pushed Element:3\n",
            "Pushed Element:4\n",
            "Pushed Element:5\n",
            "The elements in the stack are:['1', '2', '3', '4', '5']\n"
          ]
        }
      ]
    },
    {
      "cell_type": "code",
      "source": [
        "def create_stack():\n",
        "  stack = []\n",
        "  return stack\n",
        "\n",
        "def is_empty(stack):\n",
        "  return len(stack) == 0\n",
        "\n",
        "def push(stack, item):\n",
        "  stack.append(item)\n",
        "  print(\"Pushed Element:\"+ item)\n",
        "\n",
        "def pop(stack):\n",
        "  if(is_empty(stack)):\n",
        "    return \"The stack is empty\"\n",
        "  return stack.pop()\n",
        "\n",
        "def getSize(stack):\n",
        "  return stack\n",
        "\n",
        "def count(stack):\n",
        "  return len(stack)\n",
        "\n",
        "stack = create_stack()\n",
        "push(stack, str(1))\n",
        "push(stack, str(2))\n",
        "push(stack, str(3))\n",
        "push(stack, str(4))\n",
        "push(stack, str(5))\n",
        "\n",
        "print(\"The elements in the stack are:\"+ str(stack))\n",
        "\n",
        "pop(stack)\n",
        "pop(stack)\n",
        "pop(stack)\n",
        "print(stack)"
      ],
      "metadata": {
        "colab": {
          "base_uri": "https://localhost:8080/"
        },
        "id": "kR5KWTcmz0wM",
        "outputId": "dc4386aa-6362-496c-89e3-45d8237124bc"
      },
      "execution_count": 19,
      "outputs": [
        {
          "output_type": "stream",
          "name": "stdout",
          "text": [
            "Pushed Element:1\n",
            "Pushed Element:2\n",
            "Pushed Element:3\n",
            "Pushed Element:4\n",
            "Pushed Element:5\n",
            "The elements in the stack are:['1', '2', '3', '4', '5']\n",
            "['1', '2']\n"
          ]
        }
      ]
    },
    {
      "cell_type": "code",
      "execution_count": 18,
      "metadata": {
        "colab": {
          "base_uri": "https://localhost:8080/"
        },
        "id": "cMLJomx0nlOz",
        "outputId": "8bc50742-6a0f-4c0d-b239-4b80dcf1e143"
      },
      "outputs": [
        {
          "output_type": "stream",
          "name": "stdout",
          "text": [
            "Pushed Element:1\n",
            "Pushed Element:2\n",
            "Pushed Element:3\n",
            "Pushed Element:4\n",
            "Pushed Element:5\n",
            "The elements in the stack are:['1', '2', '3', '4', '5']\n",
            "['1', '2']\n",
            "The remaining elements from the list are: 2\n"
          ]
        }
      ],
      "source": [
        "def create_stack():\n",
        "  stack = []\n",
        "  return stack\n",
        "\n",
        "def is_empty(stack):\n",
        "  return len(stack) == 0\n",
        "\n",
        "def push(stack, item):\n",
        "  stack.append(item)\n",
        "  print(\"Pushed Element:\"+ item)\n",
        "\n",
        "def pop(stack):\n",
        "  if(is_empty(stack)):\n",
        "    return \"The stack is empty\"\n",
        "  return stack.pop()\n",
        "\n",
        "def getSize(stack):\n",
        "  return stack\n",
        "\n",
        "def count(stack):\n",
        "  return len(stack)\n",
        "\n",
        "stack = create_stack()\n",
        "push(stack, str(1))\n",
        "push(stack, str(2))\n",
        "push(stack, str(3))\n",
        "push(stack, str(4))\n",
        "push(stack, str(5))\n",
        "\n",
        "print(\"The elements in the stack are:\"+ str(stack))\n",
        "\n",
        "pop(stack)\n",
        "pop(stack)\n",
        "pop(stack)\n",
        "print(stack)\n",
        "print(\"The remaining elements from the list are:\",count(stack))"
      ]
    }
  ]
}
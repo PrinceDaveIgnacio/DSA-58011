{
  "nbformat": 4,
  "nbformat_minor": 0,
  "metadata": {
    "colab": {
      "provenance": [],
      "collapsed_sections": [],
      "authorship_tag": "ABX9TyOsHuPc7FN0BYnvWfrADL2v",
      "include_colab_link": true
    },
    "kernelspec": {
      "name": "python3",
      "display_name": "Python 3"
    },
    "language_info": {
      "name": "python"
    }
  },
  "cells": [
    {
      "cell_type": "markdown",
      "metadata": {
        "id": "view-in-github",
        "colab_type": "text"
      },
      "source": [
        "<a href=\"https://colab.research.google.com/github/PrinceDaveIgnacio/DSA-58011/blob/main/Addition_in_Array_.ipynb\" target=\"_parent\"><img src=\"https://colab.research.google.com/assets/colab-badge.svg\" alt=\"Open In Colab\"/></a>"
      ]
    },
    {
      "cell_type": "code",
      "execution_count": 27,
      "metadata": {
        "colab": {
          "base_uri": "https://localhost:8080/"
        },
        "id": "yguxLtG3Qvo0",
        "outputId": "26b349ee-5393-48ee-e81c-32330009ab3d"
      },
      "outputs": [
        {
          "output_type": "stream",
          "name": "stdout",
          "text": [
            "65\n",
            "66\n",
            "70\n",
            "10\n",
            "17\n",
            "18\n",
            "19\n",
            "20\n",
            "54\n",
            "60\n",
            "The summation of all elements is 399\n"
          ]
        }
      ],
      "source": [
        "num  = {10, 18, 17, 19, 20, 54, 60, 65, 70, 66}\n",
        "values = 0\n",
        "\n",
        "values = len(num)\n",
        "for values in num:\n",
        " print(values)\n",
        "\n",
        "print(\"The summation of all elements is\",sum(num))\n"
      ]
    }
  ]
}
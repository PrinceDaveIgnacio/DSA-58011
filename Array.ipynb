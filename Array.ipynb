{
  "nbformat": 4,
  "nbformat_minor": 0,
  "metadata": {
    "colab": {
      "name": "Array.ipynb",
      "provenance": [],
      "collapsed_sections": [],
      "authorship_tag": "ABX9TyOl1Y4LHoZf3Gb/hCTLBFBa",
      "include_colab_link": true
    },
    "kernelspec": {
      "name": "python3",
      "display_name": "Python 3"
    },
    "language_info": {
      "name": "python"
    }
  },
  "cells": [
    {
      "cell_type": "markdown",
      "metadata": {
        "id": "view-in-github",
        "colab_type": "text"
      },
      "source": [
        "<a href=\"https://colab.research.google.com/github/PrinceDaveIgnacio/DSA-58011/blob/main/Array.ipynb\" target=\"_parent\"><img src=\"https://colab.research.google.com/assets/colab-badge.svg\" alt=\"Open In Colab\"/></a>"
      ]
    },
    {
      "cell_type": "markdown",
      "source": [
        "Accessing Element in Array"
      ],
      "metadata": {
        "id": "K78h6HuULIcm"
      }
    },
    {
      "cell_type": "code",
      "source": [
        "Animals = [\"cat\", \"dog\", \"fish\"]\n",
        "x = Animals[0]\n",
        "\n",
        "print(x)"
      ],
      "metadata": {
        "colab": {
          "base_uri": "https://localhost:8080/"
        },
        "id": "0qvz--PY6wQR",
        "outputId": "8e3424aa-b054-4f2f-b39f-208a53440d69"
      },
      "execution_count": 1,
      "outputs": [
        {
          "output_type": "stream",
          "name": "stdout",
          "text": [
            "cat\n"
          ]
        }
      ]
    },
    {
      "cell_type": "code",
      "source": [
        "Animals = [\"cat\", \"dog\", \"fish\"]\n",
        "Animals[0] = \"Monkey\"\n",
        "x  = Animals[0] \n",
        "print(x)"
      ],
      "metadata": {
        "colab": {
          "base_uri": "https://localhost:8080/"
        },
        "id": "V69f44rJLeUa",
        "outputId": "63aba0ca-2999-4dc2-abb2-8d776e536226"
      },
      "execution_count": 2,
      "outputs": [
        {
          "output_type": "stream",
          "name": "stdout",
          "text": [
            "Monkey\n"
          ]
        }
      ]
    },
    {
      "cell_type": "code",
      "source": [
        "Animals = [\"cat\", \"dog\", \"fish\"]\n",
        "Animals[0] = \"Monkey\"\n",
        "x  = Animals[0] \n",
        "x  = len(Animals)\n",
        "print(x)"
      ],
      "metadata": {
        "colab": {
          "base_uri": "https://localhost:8080/"
        },
        "id": "uz639nlzL8aj",
        "outputId": "b5def496-6fc9-452a-aa97-8a667d9ceff5"
      },
      "execution_count": 4,
      "outputs": [
        {
          "output_type": "stream",
          "name": "stdout",
          "text": [
            "3\n"
          ]
        }
      ]
    },
    {
      "cell_type": "markdown",
      "source": [
        "Looping Array elements"
      ],
      "metadata": {
        "id": "-SDssr_sMn0O"
      }
    },
    {
      "cell_type": "code",
      "source": [
        "Animals = [\"cat\", \"dog\", \"fish\"]\n",
        "\n",
        "for x in Animals:\n",
        "  print(x)\n"
      ],
      "metadata": {
        "colab": {
          "base_uri": "https://localhost:8080/"
        },
        "id": "dlqhKKfaMhZP",
        "outputId": "6482f95f-4dc4-4bbd-b79f-3866e9ba3e14"
      },
      "execution_count": 5,
      "outputs": [
        {
          "output_type": "stream",
          "name": "stdout",
          "text": [
            "cat\n",
            "dog\n",
            "fish\n"
          ]
        }
      ]
    },
    {
      "cell_type": "markdown",
      "source": [
        "Adding Elements in the Array"
      ],
      "metadata": {
        "id": "7-L4Ng_uNOpj"
      }
    },
    {
      "cell_type": "code",
      "source": [
        "Animals = [\"cat\", \"dog\", \"fish\"]\n",
        "\n",
        "Animals.append(\"monkey\")\n",
        "\n",
        "print(Animals)"
      ],
      "metadata": {
        "colab": {
          "base_uri": "https://localhost:8080/"
        },
        "id": "zL2WRMlSM3wT",
        "outputId": "77c2ea9a-b9fd-40c1-b589-885841d13047"
      },
      "execution_count": 7,
      "outputs": [
        {
          "output_type": "stream",
          "name": "stdout",
          "text": [
            "['cat', 'dog', 'fish', 'monkey']\n"
          ]
        }
      ]
    },
    {
      "cell_type": "markdown",
      "source": [
        "Removing Elements in the Array"
      ],
      "metadata": {
        "id": "sD3wNTHRNv_6"
      }
    },
    {
      "cell_type": "code",
      "source": [
        "Animals = [\"cat\", \"dog\", \"fish\"]\n",
        "Animals.pop(2)\n",
        "Animals.pop(1)\n",
        "\n",
        "print(Animals)"
      ],
      "metadata": {
        "colab": {
          "base_uri": "https://localhost:8080/"
        },
        "id": "1yzgCtM2NzVe",
        "outputId": "f8393dda-8e64-4203-e4dc-39a46e119796"
      },
      "execution_count": 9,
      "outputs": [
        {
          "output_type": "stream",
          "name": "stdout",
          "text": [
            "['cat']\n"
          ]
        }
      ]
    }
  ]
}
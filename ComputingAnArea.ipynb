{
  "nbformat": 4,
  "nbformat_minor": 0,
  "metadata": {
    "colab": {
      "name": "ComputingAnArea",
      "provenance": [],
      "authorship_tag": "ABX9TyN+DaTmmT8iDY9VpV0oRIHo",
      "include_colab_link": true
    },
    "kernelspec": {
      "name": "python3",
      "display_name": "Python 3"
    },
    "language_info": {
      "name": "python"
    }
  },
  "cells": [
    {
      "cell_type": "markdown",
      "metadata": {
        "id": "view-in-github",
        "colab_type": "text"
      },
      "source": [
        "<a href=\"https://colab.research.google.com/github/PrinceDaveIgnacio/DSA-58011/blob/main/ComputingAnArea.ipynb\" target=\"_parent\"><img src=\"https://colab.research.google.com/assets/colab-badge.svg\" alt=\"Open In Colab\"/></a>"
      ]
    },
    {
      "cell_type": "code",
      "execution_count": 13,
      "metadata": {
        "colab": {
          "base_uri": "https://localhost:8080/"
        },
        "id": "ZZJ0oUh9DXvt",
        "outputId": "02fd6f24-2c3e-47a2-a40f-19911872b55e"
      },
      "outputs": [
        {
          "output_type": "stream",
          "name": "stdout",
          "text": [
            "113.04\n"
          ]
        }
      ],
      "source": [
        "pi_value = 3.14\n",
        "r = 6;\n",
        "\n",
        "print( pi_value*r**2)"
      ]
    }
  ]
}
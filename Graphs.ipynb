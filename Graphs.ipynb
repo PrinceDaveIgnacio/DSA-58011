{
  "nbformat": 4,
  "nbformat_minor": 0,
  "metadata": {
    "colab": {
      "provenance": [],
      "collapsed_sections": [],
      "authorship_tag": "ABX9TyPmEGhIFUDcqFIEuX7T88Nl",
      "include_colab_link": true
    },
    "kernelspec": {
      "name": "python3",
      "display_name": "Python 3"
    },
    "language_info": {
      "name": "python"
    }
  },
  "cells": [
    {
      "cell_type": "markdown",
      "metadata": {
        "id": "view-in-github",
        "colab_type": "text"
      },
      "source": [
        "<a href=\"https://colab.research.google.com/github/PrinceDaveIgnacio/DSA-58011/blob/main/Graphs.ipynb\" target=\"_parent\"><img src=\"https://colab.research.google.com/assets/colab-badge.svg\" alt=\"Open In Colab\"/></a>"
      ]
    },
    {
      "cell_type": "code",
      "execution_count": 5,
      "metadata": {
        "colab": {
          "base_uri": "https://localhost:8080/"
        },
        "id": "-iGAg949Yj7h",
        "outputId": "8fcbb7c5-7a80-4dad-aab6-ab399d08ead4"
      },
      "outputs": [
        {
          "output_type": "stream",
          "name": "stdout",
          "text": [
            "{'a': ['b', 'c'], 'b': ['a', 'd'], 'c': ['a', 'd'], 'd': ['b', 'c', 'e'], 'e': ['e']}\n"
          ]
        }
      ],
      "source": [
        "#Data element using Dictionaries to implement Graphs\n",
        "graph = {\n",
        "  'a' : ['b','c'],\n",
        "  'b' : ['a','d'],\n",
        "  'c' : ['a','d'],\n",
        "  'd' : ['b','c','e'],\n",
        "  'e' : ['e']\n",
        "}\n",
        "print(graph)"
      ]
    },
    {
      "cell_type": "code",
      "source": [
        "#G20\n",
        "graph_20 = {\n",
        "    '1':['4'],\n",
        "    '2':['1','3','4'],\n",
        "    '3':['2','4'],\n",
        "    '4':[]\n",
        "}\n",
        "print(graph_20)"
      ],
      "metadata": {
        "colab": {
          "base_uri": "https://localhost:8080/"
        },
        "id": "XsTNjvgxdDZy",
        "outputId": "0d53a57e-c3c1-45d5-b6ac-56b3fb8c84dd"
      },
      "execution_count": 9,
      "outputs": [
        {
          "output_type": "stream",
          "name": "stdout",
          "text": [
            "{'1': ['4'], '2': ['1', '3', '4'], '3': ['2', '4'], '4': []}\n"
          ]
        }
      ]
    }
  ]
}
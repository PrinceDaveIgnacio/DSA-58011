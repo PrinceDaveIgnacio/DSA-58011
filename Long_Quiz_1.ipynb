{
  "nbformat": 4,
  "nbformat_minor": 0,
  "metadata": {
    "colab": {
      "provenance": [],
      "collapsed_sections": [],
      "authorship_tag": "ABX9TyO+Fbl4oYJgTHqL8WfnC0A3",
      "include_colab_link": true
    },
    "kernelspec": {
      "name": "python3",
      "display_name": "Python 3"
    },
    "language_info": {
      "name": "python"
    }
  },
  "cells": [
    {
      "cell_type": "markdown",
      "metadata": {
        "id": "view-in-github",
        "colab_type": "text"
      },
      "source": [
        "<a href=\"https://colab.research.google.com/github/PrinceDaveIgnacio/DSA-58011/blob/main/Long_Quiz_1.ipynb\" target=\"_parent\"><img src=\"https://colab.research.google.com/assets/colab-badge.svg\" alt=\"Open In Colab\"/></a>"
      ]
    },
    {
      "cell_type": "markdown",
      "source": [
        "#Singly Linked List - Reversed Full Name Arrangement"
      ],
      "metadata": {
        "id": "XRz5TZ7nzB-C"
      }
    },
    {
      "cell_type": "code",
      "execution_count": 27,
      "metadata": {
        "colab": {
          "base_uri": "https://localhost:8080/"
        },
        "id": "7cSW4Uzys5sa",
        "outputId": "089925fb-4ddb-42f0-973f-89bf22df8f21"
      },
      "outputs": [
        {
          "output_type": "stream",
          "name": "stdout",
          "text": [
            "Prince\n",
            "Dave\n",
            "Saragina\n",
            "Ignacio\n"
          ]
        }
      ],
      "source": [
        "class Node:                                     #Singly LinkedList\n",
        "  def __init__(self, data = None, next = None):\n",
        "    self.data = data\n",
        "    self.next = next\n",
        "\n",
        "class LinkedList():\n",
        "  def __init__(self):\n",
        "    self.head = None\n",
        "  def insert(self, data):\n",
        "    newNode = Node(data)\n",
        "    if(self.head):\n",
        "      current = self.head\n",
        "      while(current.next):\n",
        "          current = current.next\n",
        "          current.next = newNode\n",
        "    else:\n",
        "      self.head = newNode\n",
        "\n",
        "  def print(self):\n",
        "    current = self.head\n",
        "    while(current):\n",
        "      print(current.data)\n",
        "      current = current.next\n",
        "\n",
        "llist = LinkedList()\n",
        "llist.head = Node(\"Prince\")\n",
        "Name1 = Node('Dave')\n",
        "Name2 = Node('Saragina')\n",
        "Name3 = Node('Ignacio')\n",
        "\n",
        "\n",
        "llist.head.next = Name1             \n",
        "Name1.next = Name2\n",
        "Name2.next = Name3\n",
        "\n",
        "llist.print()"
      ]
    }
  ]
}
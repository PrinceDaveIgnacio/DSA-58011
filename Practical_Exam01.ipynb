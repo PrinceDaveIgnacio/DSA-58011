{
  "nbformat": 4,
  "nbformat_minor": 0,
  "metadata": {
    "colab": {
      "name": "Practical Exam01",
      "provenance": [],
      "collapsed_sections": [],
      "authorship_tag": "ABX9TyNiEsAz4XOUnEOoR93SMaKK",
      "include_colab_link": true
    },
    "kernelspec": {
      "name": "python3",
      "display_name": "Python 3"
    },
    "language_info": {
      "name": "python"
    }
  },
  "cells": [
    {
      "cell_type": "markdown",
      "metadata": {
        "id": "view-in-github",
        "colab_type": "text"
      },
      "source": [
        "<a href=\"https://colab.research.google.com/github/PrinceDaveIgnacio/DSA-58011/blob/main/Practical_Exam01.ipynb\" target=\"_parent\"><img src=\"https://colab.research.google.com/assets/colab-badge.svg\" alt=\"Open In Colab\"/></a>"
      ]
    },
    {
      "cell_type": "code",
      "execution_count": null,
      "metadata": {
        "id": "r2v3A1LkLf1V"
      },
      "outputs": [],
      "source": [
        "input(\"input the grades: \" )\n",
        "grades = [\"no1\" , \"no1\" , \"no3\", \"no4\", \"no5\", \"no6\"]"
      ]
    }
  ]
}
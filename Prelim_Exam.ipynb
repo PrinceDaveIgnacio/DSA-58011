{
  "nbformat": 4,
  "nbformat_minor": 0,
  "metadata": {
    "colab": {
      "provenance": [],
      "collapsed_sections": [],
      "authorship_tag": "ABX9TyNbZVZ1z412SBb2cyoxGmxn",
      "include_colab_link": true
    },
    "kernelspec": {
      "name": "python3",
      "display_name": "Python 3"
    },
    "language_info": {
      "name": "python"
    }
  },
  "cells": [
    {
      "cell_type": "markdown",
      "metadata": {
        "id": "view-in-github",
        "colab_type": "text"
      },
      "source": [
        "<a href=\"https://colab.research.google.com/github/PrinceDaveIgnacio/DSA-58011/blob/main/Prelim_Exam.ipynb\" target=\"_parent\"><img src=\"https://colab.research.google.com/assets/colab-badge.svg\" alt=\"Open In Colab\"/></a>"
      ]
    },
    {
      "cell_type": "markdown",
      "source": [
        "#Array Data Structure"
      ],
      "metadata": {
        "id": "HTYRLo1EpyuY"
      }
    },
    {
      "cell_type": "code",
      "execution_count": 24,
      "metadata": {
        "colab": {
          "base_uri": "https://localhost:8080/"
        },
        "id": "g77tOMYApxpm",
        "outputId": "2116a114-26b4-4f35-c678-24c1f0673ac1"
      },
      "outputs": [
        {
          "output_type": "stream",
          "name": "stdout",
          "text": [
            "array('i', [4, 6, 8, 9])\n",
            "The list of composite numbers is 4\n"
          ]
        }
      ],
      "source": [
        "import array as arr\n",
        "arr.typecodes\n",
        "number = arr.array('i',[])\n",
        "number.append(4)\n",
        "number.append(6)\n",
        "number.append(8)\n",
        "number.append(9)\n",
        "x = len(number)\n",
        "print(number)\n",
        "print(\"The list of composite numbers is\",x)"
      ]
    }
  ]
}
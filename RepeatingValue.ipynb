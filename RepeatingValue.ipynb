{
  "nbformat": 4,
  "nbformat_minor": 0,
  "metadata": {
    "colab": {
      "provenance": [],
      "authorship_tag": "ABX9TyPuzB2psozgD4PXd5+92Zqs",
      "include_colab_link": true
    },
    "kernelspec": {
      "name": "python3",
      "display_name": "Python 3"
    },
    "language_info": {
      "name": "python"
    }
  },
  "cells": [
    {
      "cell_type": "markdown",
      "metadata": {
        "id": "view-in-github",
        "colab_type": "text"
      },
      "source": [
        "<a href=\"https://colab.research.google.com/github/PrinceDaveIgnacio/DSA-58011/blob/main/RepeatingValue.ipynb\" target=\"_parent\"><img src=\"https://colab.research.google.com/assets/colab-badge.svg\" alt=\"Open In Colab\"/></a>"
      ]
    },
    {
      "cell_type": "markdown",
      "source": [
        "Find the repeating value using array data strucure and conditional statement"
      ],
      "metadata": {
        "id": "kMeHL1zQtm2U"
      }
    },
    {
      "cell_type": "code",
      "execution_count": null,
      "metadata": {
        "colab": {
          "base_uri": "https://localhost:8080/"
        },
        "id": "keSMdqgXtPCu",
        "outputId": "33c4efd5-174b-473e-b558-c8bc759a48db"
      },
      "outputs": [
        {
          "output_type": "stream",
          "name": "stdout",
          "text": [
            "Repeated number:  2\n"
          ]
        }
      ],
      "source": [
        "numbers = [1, 2, 2]\n",
        "rep = []\n",
        "for n in numbers:\n",
        "    if numbers.count(n) > 1:\n",
        "        if n not in rep:\n",
        "            print(\"Repeated number: \", n)\n",
        "            rep.append(n)"
      ]
    }
  ]
}
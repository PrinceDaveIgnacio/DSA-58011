{
  "nbformat": 4,
  "nbformat_minor": 0,
  "metadata": {
    "colab": {
      "provenance": [],
      "collapsed_sections": [],
      "authorship_tag": "ABX9TyPcixEDRy+1DbsHJYJvfZDJ",
      "include_colab_link": true
    },
    "kernelspec": {
      "name": "python3",
      "display_name": "Python 3"
    },
    "language_info": {
      "name": "python"
    }
  },
  "cells": [
    {
      "cell_type": "markdown",
      "metadata": {
        "id": "view-in-github",
        "colab_type": "text"
      },
      "source": [
        "<a href=\"https://colab.research.google.com/github/PrinceDaveIgnacio/DSA-58011/blob/main/StackNQueue%E2%80%94Recitation.ipynb\" target=\"_parent\"><img src=\"https://colab.research.google.com/assets/colab-badge.svg\" alt=\"Open In Colab\"/></a>"
      ]
    },
    {
      "cell_type": "code",
      "execution_count": 9,
      "metadata": {
        "colab": {
          "base_uri": "https://localhost:8080/"
        },
        "id": "lLqYK2Tvg8H7",
        "outputId": "a749b144-2532-48fa-912d-3a21f775e44c"
      },
      "outputs": [
        {
          "output_type": "stream",
          "name": "stdout",
          "text": [
            "Oggy\n",
            "Andy\n",
            "Garfield\n"
          ]
        }
      ],
      "source": [
        "class Node:\n",
        "  def __init__(self,data):\n",
        "    self.data = data\n",
        "    self.next = None\n",
        "\n",
        "class LinkedList:\n",
        "  def __init__(self):\n",
        "    self.head = None\n",
        "  \n",
        "  def MyList(self):\n",
        "    temp = self.head\n",
        "    \n",
        "    while(temp):\n",
        "      print(temp.data)\n",
        "      temp = temp.next\n",
        "  def isempty(self):\n",
        "    if llist.printList == None:\n",
        "      return True\n",
        "    else:\n",
        "      return False\n",
        "  def pop(self):                  #This method used to provide feedback and                                     \n",
        "    if self.isempty():                #return list of value if the list had a data or else it does not contained data\n",
        "      print(\"stack is empty\")\n",
        "    else:\n",
        "      popped_node = third\n",
        "      return popped_node.data\n",
        "\n",
        "\n",
        "\n",
        "#Execution\n",
        "\n",
        "Pets = LinkedList()\n",
        "Pets.head = Node(\"Oggy\") \n",
        "Pet2 = Node(\"Andy\")\n",
        "Pet3 = Node(\"Garfield\")\n",
        "\n",
        "Pets.head.next = Pet2\n",
        "Pet2.next = Pet3\n",
        "\n",
        "Pets.MyList()"
      ]
    }
  ]
}